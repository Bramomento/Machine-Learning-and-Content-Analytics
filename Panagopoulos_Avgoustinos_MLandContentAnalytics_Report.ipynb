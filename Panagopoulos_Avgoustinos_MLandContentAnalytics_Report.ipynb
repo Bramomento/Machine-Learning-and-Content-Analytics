{
 "cells": [
  {
   "cell_type": "markdown",
   "metadata": {},
   "source": [
    "## Step 1: Import Required Libraries"
   ]
  },
  {
   "cell_type": "code",
   "execution_count": 129,
   "metadata": {},
   "outputs": [],
   "source": [
    "import os\n",
    "os.environ[\"CUDA_LAUNCH_BLOCKING\"] = \"1\"\n",
    "\n",
    "import torch\n",
    "from torch.utils.data import DataLoader, Dataset\n",
    "from transformers import BertTokenizer, BertForSequenceClassification, AdamW\n",
    "from tqdm import tqdm\n",
    "import pandas as pd\n",
    "from sklearn.metrics import accuracy_score, precision_recall_fscore_support\n",
    "import matplotlib.pyplot as plt\n",
    "import seaborn as sns\n"
   ]
  },
  {
   "cell_type": "markdown",
   "metadata": {},
   "source": [
    "## Step 2: Model Initialization and Tokenizer Setup\n",
    "\n",
    "In this section, we initialize a pre-trained BERT model for sequence classification, along with its tokenizer, and move the model to the available device (GPU or CPU).\n",
    "\n",
    "### Code Breakdown:\n",
    "- **PRE_TRAINED_MODEL_NAME**:  \n",
    "   We specify the pre-trained model name as `'bert-base-uncased'`, which refers to the base version of BERT with uncased text (meaning the model does not differentiate between uppercase and lowercase characters).\n",
    "\n",
    "- **Tokenizer Initialization**:  \n",
    "   We use the `BertTokenizer` class from Hugging Face to load the pre-trained tokenizer. This tokenizer will convert input text into token ids, which the model can process:\n",
    "   ```python\n",
    "   tokenizer = BertTokenizer.from_pretrained(PRE_TRAINED_MODEL_NAME)\n"
   ]
  },
  {
   "cell_type": "code",
   "execution_count": 130,
   "metadata": {},
   "outputs": [
    {
     "name": "stderr",
     "output_type": "stream",
     "text": [
      "c:\\Users\\xrist\\AppData\\Local\\Programs\\Python\\Python311\\Lib\\site-packages\\transformers\\tokenization_utils_base.py:1601: FutureWarning: `clean_up_tokenization_spaces` was not set. It will be set to `True` by default. This behavior will be depracted in transformers v4.45, and will be then set to `False` by default. For more details check this issue: https://github.com/huggingface/transformers/issues/31884\n",
      "  warnings.warn(\n",
      "Some weights of BertForSequenceClassification were not initialized from the model checkpoint at bert-base-uncased and are newly initialized: ['classifier.bias', 'classifier.weight']\n",
      "You should probably TRAIN this model on a down-stream task to be able to use it for predictions and inference.\n"
     ]
    }
   ],
   "source": [
    "PRE_TRAINED_MODEL_NAME = 'bert-base-uncased'\n",
    "tokenizer = BertTokenizer.from_pretrained(PRE_TRAINED_MODEL_NAME)\n",
    "model = BertForSequenceClassification.from_pretrained(PRE_TRAINED_MODEL_NAME, num_labels=3)\n",
    "\n",
    "device = torch.device(\"cuda\" if torch.cuda.is_available() else \"cpu\")\n",
    "model = model.to(device)\n"
   ]
  },
  {
   "cell_type": "markdown",
   "metadata": {},
   "source": [
    "## Step 3: Custom Dataset Class for Sentiment Analysis and DataLoader Function\n",
    "\n",
    "This section defines the `SentimentDataset` class, which is a custom dataset to handle reviews and their associated aspects for sentiment classification. The dataset is designed to be compatible with PyTorch’s DataLoader.\n",
    "\n",
    "### Code Breakdown:\n",
    "- **`__init__(self, reviews, aspects, labels, tokenizer, max_len)`**:\n",
    "  - The constructor initializes the dataset with reviews, aspects, labels, a tokenizer, and a maximum token length (`max_len`).\n",
    "  - **Parameters**:\n",
    "    - `reviews`: A list of review texts.\n",
    "    - `aspects`: A list of aspects associated with each review (e.g., \"Service\", \"Food\").\n",
    "    - `labels`: Sentiment labels associated with each review, typically as integers (e.g., 0 for negative, 1 for neutral, 2 for positive).\n",
    "    - `tokenizer`: The tokenizer that converts text into input token IDs (from the BERT model).\n",
    "    - `max_len`: The maximum length of tokenized sequences, important for ensuring consistency in input size to the model.\n",
    "\n",
    "- **`__len__(self)`**:\n",
    "  - Returns the total number of samples in the dataset, making it compatible with PyTorch's DataLoader.\n",
    "  \n",
    "- **`__getitem__(self, index)`**:\n",
    "  - Retrieves a single data sample (review, aspect, label) from the dataset based on the given `index`.\n",
    "  - **Steps**:\n",
    "    1. **Review and Aspect Retrieval**: Fetches the review and aspect at the specified index, and converts them to strings.\n",
    "    2. **Label Retrieval**: Fetches the corresponding label.\n",
    "    3. **Input Text Construction**: Combines the aspect and review into a single string, formatted as:  \n",
    "       `\"Aspect: {aspect}. Review: {review}\"`.\n",
    "    4. **Tokenization**: The combined text is tokenized using the BERT tokenizer. Important settings include:\n",
    "       - `max_length`: Ensures the sequence is no longer than the maximum length specified.\n",
    "       - `padding='max_length'`: Pads the sequence to the maximum length.\n",
    "       - `truncation=True`: Truncates sequences that are too long.\n",
    "       - `return_attention_mask=True`: Returns the attention mask to indicate which tokens are padding.\n",
    "       - `return_tensors='pt'`: Returns the tensors in PyTorch format.\n",
    "    5. **Return Values**: The method returns a dictionary containing:\n",
    "       - `'input_ids'`: Token IDs of the combined text.\n",
    "       - `'attention_mask'`: Attention mask for padding.\n",
    "       - `'labels'`: Sentiment label as a tensor.\n",
    "       - `'aspect'`: The original aspect text for reference.\n",
    "       - `'review'`: The original review text for reference.\n",
    "\n",
    "### Why We Did This:\n",
    "- **Custom Dataset Class**: Using a custom dataset class allows for easy integration with PyTorch's DataLoader, enabling efficient batching, shuffling, and parallel loading of data during training.\n",
    "- **Aspect-Review Combination**: By combining the aspect with the review in the input text, the model can focus on specific aspects of the review, which is especially useful in sentiment analysis where different aspects of a product/service might receive different sentiments.\n",
    "- **Tokenization**: Ensuring that the text is tokenized consistently with padding and truncation ensures that all inputs are of the same length, which is crucial when feeding data into a BERT-based model.\n"
   ]
  },
  {
   "cell_type": "code",
   "execution_count": 131,
   "metadata": {},
   "outputs": [],
   "source": [
    "class SentimentDataset(Dataset):\n",
    "    def __init__(self, reviews, aspects, labels, tokenizer, max_len):\n",
    "        self.reviews = reviews\n",
    "        self.aspects = aspects\n",
    "        self.labels = labels\n",
    "        self.tokenizer = tokenizer\n",
    "        self.max_len = max_len\n",
    "\n",
    "    def __len__(self):\n",
    "        return len(self.reviews)\n",
    "\n",
    "    def __getitem__(self, index):\n",
    "        review = str(self.reviews[index])\n",
    "        aspect = str(self.aspects[index])\n",
    "        label = self.labels[index]\n",
    "\n",
    "        input_text = f\"Aspect: {aspect}. Review: {review}\"\n",
    "\n",
    "        encoding = self.tokenizer.encode_plus(\n",
    "            input_text,\n",
    "            add_special_tokens=True,\n",
    "            max_length=self.max_len,\n",
    "            return_token_type_ids=False,\n",
    "            padding='max_length',\n",
    "            truncation=True,\n",
    "            return_attention_mask=True,\n",
    "            return_tensors='pt'\n",
    "        )\n",
    "\n",
    "        return {\n",
    "            'input_ids': encoding['input_ids'].squeeze(0),\n",
    "            'attention_mask': encoding['attention_mask'].squeeze(0),\n",
    "            'labels': torch.tensor(label, dtype=torch.long),\n",
    "            'aspect': aspect,  # Include aspect\n",
    "            'review': review  # Include review\n",
    "        }\n"
   ]
  },
  {
   "cell_type": "code",
   "execution_count": 132,
   "metadata": {},
   "outputs": [],
   "source": [
    "def create_data_loader(reviews, aspects, labels, tokenizer, max_len, batch_size):\n",
    "    dataset = SentimentDataset(reviews, aspects, labels, tokenizer, max_len)\n",
    "    return DataLoader(dataset, batch_size=batch_size, num_workers=0)"
   ]
  },
  {
   "cell_type": "markdown",
   "metadata": {},
   "source": [
    "## Step 4: Aspect-Based Data Loading and Preprocessing\n",
    "\n",
    "In this section, we load and preprocess the restaurant review dataset, focusing on specific aspects (e.g., \"food\", \"service\", \"ambience\"). We then create PyTorch `DataLoader` objects to facilitate aspect-based sentiment analysis for both training and testing datasets.\n",
    "\n",
    "### List of Aspects for Analysis\n",
    "- We define a list of aspects that we are interested in analyzing (e.g., \"food\", \"service\", \"ambience\"):\n",
    "  ```python\n",
    "  aspects = [\"food\", \"service\", \"ambience\"]\n"
   ]
  },
  {
   "cell_type": "code",
   "execution_count": 133,
   "metadata": {},
   "outputs": [],
   "source": [
    "aspects = [\"food\", \"service\", \"ambience\"]\n",
    "\n",
    "def load_and_preprocess_data_train(file_path, aspects):\n",
    "\n",
    "    data = pd.read_csv(file_path)\n",
    "\n",
    "    data.rename(columns={'Sentence': 'review', 'Aspect Term': 'aspect_term', 'polarity': 'sentiment_labels'}, inplace=True)\n",
    "\n",
    "    data = data[data['sentiment_labels'].isin(['positive', 'neutral', 'negative'])]\n",
    "    data['sentiment_labels'] = data['sentiment_labels'].map({'positive': 2, 'neutral': 1, 'negative': 0})\n",
    "    \n",
    "    data = data[data['aspect_term'].isin(aspects)]\n",
    "    \n",
    "    return data\n",
    "\n",
    "def load_and_preprocess_data_test(file_path, aspects):\n",
    "\n",
    "    data = pd.read_csv(file_path)\n",
    "\n",
    "    data.rename(columns={'Sentence': 'review', 'Aspect Term': 'aspect_term', 'polarity': 'sentiment_labels'}, inplace=True)\n",
    "    \n",
    "    data = data[data['sentiment_labels'].isin(['positive', 'neutral', 'negative'])]\n",
    "    data['sentiment_labels'] = data['sentiment_labels'].map({'positive': 2, 'neutral': 1, 'negative': 0})\n",
    "\n",
    "    data = data[data['aspect_term'].isin(aspects)]\n",
    "    \n",
    "    return data\n",
    "\n",
    "\n",
    "train_data = load_and_preprocess_data_train(r\"C:\\Users\\xrist\\Downloads\\Restaurants_Train_v2.csv\", aspects)\n",
    "\n",
    "train_reviews = train_data['review'].tolist()\n",
    "train_aspects = train_data['aspect_term'].tolist()\n",
    "train_labels = train_data['sentiment_labels'].tolist()\n",
    "\n",
    "test_data = load_and_preprocess_data_test(r\"C:\\Users\\xrist\\Downloads\\Restaurants_Test_Data_PhaseA.csv\", aspects)\n",
    "\n",
    "test_reviews = test_data['review'].tolist()\n",
    "test_aspects = test_data['aspect_term'].tolist()\n",
    "test_labels = test_data['sentiment_labels'].tolist()\n",
    "\n",
    "\n",
    "MAX_LEN = 128\n",
    "BATCH_SIZE = 8\n",
    "train_data_loader = create_data_loader(train_reviews, train_aspects, train_labels, tokenizer, MAX_LEN, BATCH_SIZE)\n",
    "\n",
    "test_data_loader = create_data_loader(test_reviews, test_aspects, test_labels, tokenizer, MAX_LEN, BATCH_SIZE)\n"
   ]
  },
  {
   "cell_type": "markdown",
   "metadata": {},
   "source": [
    "## Step 5: Training Loop for BERT Model\n",
    "\n",
    "This section defines a `train` function that handles the training process for a BERT model, iterating over the dataset for a specified number of epochs. The function calculates the loss, performs backpropagation, and updates the model weights accordingly.\n",
    "\n",
    "### Code Breakdown:\n",
    "- **`train(model, data_loader, optimizer, device, epochs)`**:\n",
    "  - **Parameters**:\n",
    "    - `model`: The BERT model for sequence classification.\n",
    "    - `data_loader`: The DataLoader containing training data in batches.\n",
    "    - `optimizer`: The optimization algorithm (e.g., AdamW) used to adjust the model’s weights based on the computed gradients.\n",
    "    - `device`: The device (CPU or GPU) where computations will be performed.\n",
    "    - `epochs`: The number of epochs (complete passes through the training dataset).\n",
    "\n",
    "### Function Logic:\n",
    "\n",
    "1. **Model in Training Mode**:\n",
    "   - The `model.train()` call puts the model in training mode, enabling certain features like dropout and gradient updates that are only used during training.\n",
    "   ```python\n",
    "   model.train()\n"
   ]
  },
  {
   "cell_type": "code",
   "execution_count": 134,
   "metadata": {},
   "outputs": [],
   "source": [
    "def train(model, data_loader, optimizer, device, epochs):\n",
    "    model.train()\n",
    "    training_loss_per_epoch = []\n",
    "\n",
    "    for epoch in range(epochs):\n",
    "        print(f\"Epoch {epoch + 1}/{epochs}\")\n",
    "        total_loss = 0\n",
    "        progress_bar = tqdm(data_loader, desc=f\"Training Epoch {epoch + 1}\")\n",
    "\n",
    "        for batch in progress_bar:\n",
    "            input_ids = batch['input_ids'].to(device)\n",
    "            attention_mask = batch['attention_mask'].to(device)\n",
    "            labels = batch['labels'].to(device)\n",
    "\n",
    "            optimizer.zero_grad()\n",
    "            outputs = model(input_ids=input_ids, attention_mask=attention_mask, labels=labels)\n",
    "            loss = outputs.loss\n",
    "            total_loss += loss.item()\n",
    "\n",
    "            loss.backward()\n",
    "            optimizer.step()\n",
    "\n",
    "            progress_bar.set_postfix(loss=loss.item())\n",
    "\n",
    "        avg_loss = total_loss / len(data_loader)\n",
    "        training_loss_per_epoch.append(avg_loss)\n",
    "        print(f\"Average training loss for epoch {epoch + 1}: {avg_loss}\")\n"
   ]
  },
  {
   "cell_type": "markdown",
   "metadata": {},
   "source": [
    "## Step 6: Hyperparameters and Training Setup\n",
    "\n",
    "In this section, we define the key hyperparameters for training the model, set up the optimizer, and call the `train` function to start the model training process.\n",
    "\n",
    "### Code Breakdown:\n",
    "\n",
    "### 1. **Hyperparameters**\n",
    "- **EPOCHS = 3**: \n",
    "  - The number of complete passes through the training dataset. Typically, a higher number of epochs leads to better learning, but it also increases the risk of overfitting.\n",
    "  - We set it to `3` as a reasonable balance between sufficient training time and overfitting.\n",
    "  \n",
    "- **LEARNING_RATE = 2e-5**: \n",
    "  - The learning rate controls how large a step the optimizer takes when updating the model's weights during training.\n",
    "  - A learning rate of `2e-5` (0.00002) is commonly used with BERT models as it balances making progress without overshooting optimal weights.\n",
    "\n",
    "```python\n",
    "EPOCHS = 3\n",
    "LEARNING_RATE = 2e-5\n"
   ]
  },
  {
   "cell_type": "code",
   "execution_count": 135,
   "metadata": {},
   "outputs": [
    {
     "name": "stderr",
     "output_type": "stream",
     "text": [
      "c:\\Users\\xrist\\AppData\\Local\\Programs\\Python\\Python311\\Lib\\site-packages\\transformers\\optimization.py:591: FutureWarning: This implementation of AdamW is deprecated and will be removed in a future version. Use the PyTorch implementation torch.optim.AdamW instead, or set `no_deprecation_warning=True` to disable this warning\n",
      "  warnings.warn(\n"
     ]
    },
    {
     "name": "stdout",
     "output_type": "stream",
     "text": [
      "Epoch 1/3\n"
     ]
    },
    {
     "name": "stderr",
     "output_type": "stream",
     "text": [
      "Training Epoch 1: 100%|██████████| 83/83 [00:38<00:00,  2.16it/s, loss=1.27] \n"
     ]
    },
    {
     "name": "stdout",
     "output_type": "stream",
     "text": [
      "Average training loss for epoch 1: 0.8532149034989885\n",
      "Epoch 2/3\n"
     ]
    },
    {
     "name": "stderr",
     "output_type": "stream",
     "text": [
      "Training Epoch 2: 100%|██████████| 83/83 [00:37<00:00,  2.22it/s, loss=0.951] \n"
     ]
    },
    {
     "name": "stdout",
     "output_type": "stream",
     "text": [
      "Average training loss for epoch 2: 0.5942141889897455\n",
      "Epoch 3/3\n"
     ]
    },
    {
     "name": "stderr",
     "output_type": "stream",
     "text": [
      "Training Epoch 3: 100%|██████████| 83/83 [00:39<00:00,  2.12it/s, loss=0.447] "
     ]
    },
    {
     "name": "stdout",
     "output_type": "stream",
     "text": [
      "Average training loss for epoch 3: 0.4380270454987704\n"
     ]
    },
    {
     "name": "stderr",
     "output_type": "stream",
     "text": [
      "\n"
     ]
    }
   ],
   "source": [
    "# Hyperparameters\n",
    "EPOCHS = 3\n",
    "LEARNING_RATE = 2e-5\n",
    "\n",
    "# Optimizer\n",
    "optimizer = AdamW(model.parameters(), lr=LEARNING_RATE)\n",
    "\n",
    "train(model, train_data_loader, optimizer, device, EPOCHS)"
   ]
  },
  {
   "cell_type": "markdown",
   "metadata": {},
   "source": [
    "## Step 7: Model Evaluation Function\n",
    "\n",
    "The `evaluate` function is used to assess the performance of the trained model on the test dataset. It computes metrics such as accuracy, precision, recall, and F1-score. Additionally, it inspects misclassified examples, displaying up to 10 incorrect predictions for further analysis.\n",
    "\n",
    "### Code Breakdown:\n",
    "\n",
    "### 1. **Function Definition: `evaluate(model, data_loader, device)`**\n",
    "- **Parameters**:\n",
    "  - `model`: The trained BERT model to evaluate.\n",
    "  - `data_loader`: The DataLoader containing the test data in batches.\n",
    "  - `device`: The computing device (CPU or GPU) on which evaluation is performed.\n",
    "\n",
    "```python\n",
    "def evaluate(model, data_loader, device):\n"
   ]
  },
  {
   "cell_type": "code",
   "execution_count": 136,
   "metadata": {},
   "outputs": [],
   "source": [
    "def evaluate(model, data_loader, device):\n",
    "    model.eval()\n",
    "    predictions, true_labels, aspects_list, reviews_list = [], [], [], []\n",
    "\n",
    "    with torch.no_grad():\n",
    "        for batch in data_loader:\n",
    "            input_ids = batch['input_ids'].to(device)\n",
    "            attention_mask = batch['attention_mask'].to(device)\n",
    "            labels = batch['labels'].to(device)\n",
    "            aspects = batch['aspect'] \n",
    "            reviews = batch['review']  \n",
    "\n",
    "            outputs = model(input_ids=input_ids, attention_mask=attention_mask)\n",
    "            preds = torch.argmax(outputs.logits, dim=1)\n",
    "\n",
    "            # Store all necessary information for later inspection\n",
    "            predictions.extend(preds.cpu().numpy())\n",
    "            true_labels.extend(labels.cpu().numpy())\n",
    "            aspects_list.extend(aspects)\n",
    "            reviews_list.extend(reviews)\n",
    "\n",
    "    # Calculate metrics\n",
    "    accuracy = accuracy_score(true_labels, predictions)\n",
    "    precision, recall, f1_score, _ = precision_recall_fscore_support(true_labels, predictions, average='weighted')\n",
    "\n",
    "    incorrect_predictions = [\n",
    "        (aspect, review, true, pred) for aspect, review, true, pred in zip(aspects_list, reviews_list, true_labels, predictions) if true != pred\n",
    "    ]\n",
    "\n",
    "    print(f\"Accuracy: {accuracy:.4f}\")\n",
    "    print(f\"Precision: {precision:.4f}\")\n",
    "    print(f\"Recall: {recall:.4f}\")\n",
    "    print(f\"F1 Score: {f1_score:.4f}\")\n",
    "\n",
    "    print(\"\\nIncorrect Predictions (Aspect, Review, True Label, Predicted Label):\")\n",
    "    for aspect, review, true, pred in incorrect_predictions[:10]: \n",
    "        print(f\"Aspect: {aspect}, Review: {review}\")\n",
    "        print(f\"True Label: {true}, Predicted Label: {pred}\\n\")\n",
    "\n",
    "    return accuracy, precision, recall, f1_score, aspects_list, reviews_list, true_labels, predictions\n"
   ]
  },
  {
   "cell_type": "code",
   "execution_count": 137,
   "metadata": {},
   "outputs": [
    {
     "name": "stdout",
     "output_type": "stream",
     "text": [
      "Accuracy: 0.8233\n",
      "Precision: 0.8254\n",
      "Recall: 0.8233\n",
      "F1 Score: 0.8101\n",
      "\n",
      "Incorrect Predictions (Aspect, Review, True Label, Predicted Label):\n",
      "Aspect: service, Review: The staff isn't the friendliest or most competent, and I am stickler for service, but everything else about this place makes up for it.\n",
      "True Label: 0, Predicted Label: 1\n",
      "\n",
      "Aspect: service, Review: The service is ok but could be better.\n",
      "True Label: 0, Predicted Label: 2\n",
      "\n",
      "Aspect: food, Review: Over time, the food quality has decreased substantially, it is a lot less crowded than it used to, and the service must definitely be part of the reason.\n",
      "True Label: 0, Predicted Label: 1\n",
      "\n",
      "Aspect: service, Review: Over time, the food quality has decreased substantially, it is a lot less crowded than it used to, and the service must definitely be part of the reason.\n",
      "True Label: 0, Predicted Label: 1\n",
      "\n",
      "Aspect: ambience, Review: The staff has been nice, but they seemed really stressed and the unisex bathroom needs to be cleaned more often.\n",
      "True Label: 0, Predicted Label: 2\n",
      "\n",
      "Aspect: service, Review: Service and food is what any one would expect when spending that type of money.\n",
      "True Label: 1, Predicted Label: 2\n",
      "\n",
      "Aspect: food, Review: Service and food is what any one would expect when spending that type of money.\n",
      "True Label: 1, Predicted Label: 2\n",
      "\n",
      "Aspect: food, Review: I went there in late afternoon for some bite size food and refleshment with my date.\n",
      "True Label: 1, Predicted Label: 2\n",
      "\n",
      "Aspect: food, Review: Pair you food with the excellent beers on tap or their well priced wine list.\n",
      "True Label: 1, Predicted Label: 2\n",
      "\n",
      "Aspect: food, Review: I am not sure if I would call the food here Indian as it is a fusion of what seems to be French with an Indian or exotic touch.\n",
      "True Label: 1, Predicted Label: 2\n",
      "\n",
      "    Aspect                                             Review  True Label  \\\n",
      "0  service  The staff isn't the friendliest or most compet...           0   \n",
      "1  service  The service was terrible, we had to wait for e...           0   \n",
      "2     food                        Food was average but tasty.           2   \n",
      "3     food                Horrible food and Horrible service.           0   \n",
      "4  service                Horrible food and Horrible service.           0   \n",
      "\n",
      "   Predicted Label  \n",
      "0                1  \n",
      "1                0  \n",
      "2                2  \n",
      "3                0  \n",
      "4                0  \n"
     ]
    }
   ],
   "source": [
    "accuracy, precision, recall, f1_score, aspects_list, reviews_list, true_labels, predictions = evaluate(model, test_data_loader, device)\n",
    "\n",
    "results_df = pd.DataFrame({\n",
    "    'Aspect': aspects_list,\n",
    "    'Review': reviews_list,\n",
    "    'True Label': true_labels,\n",
    "    'Predicted Label': predictions\n",
    "})\n",
    "\n",
    "print(results_df.head())\n",
    "\n",
    "results_df.to_csv('evaluation_results.csv', index=False)\n"
   ]
  },
  {
   "cell_type": "markdown",
   "metadata": {},
   "source": [
    "## Step 8: Visualizing Confusion Matrices for Aspect-Based Sentiment Analysis\n",
    "\n",
    "In this section, we generate and display confusion matrices for the model's predictions on different aspects (e.g., food, service, and ambience). A confusion matrix provides a detailed breakdown of correct and incorrect classifications for each sentiment class.\n",
    "\n",
    "### Code Breakdown:\n",
    "\n",
    "### 1. **Required Imports**\n",
    "- **confusion_matrix**: Computes the confusion matrix, which compares predicted labels with true labels.\n",
    "- **ConfusionMatrixDisplay**: A utility from `sklearn` to display confusion matrices as plots.\n",
    "\n",
    "```python\n",
    "from sklearn.metrics import confusion_matrix, ConfusionMatrixDisplay\n"
   ]
  },
  {
   "cell_type": "code",
   "execution_count": 138,
   "metadata": {},
   "outputs": [],
   "source": [
    "from sklearn.metrics import confusion_matrix, ConfusionMatrixDisplay\n",
    "import numpy as np\n",
    "import seaborn as sns\n",
    "import matplotlib.pyplot as plt\n"
   ]
  },
  {
   "cell_type": "code",
   "execution_count": 139,
   "metadata": {},
   "outputs": [
    {
     "data": {
      "image/png": "[encoded data removed]",
      "text/plain": [
       "<Figure size 600x400 with 2 Axes>"
      ]
     },
     "metadata": {},
     "output_type": "display_data"
    },
    {
     "data": {
      "image/png": "[encoded data removed]",
      "text/plain": [
       "<Figure size 600x400 with 2 Axes>"
      ]
     },
     "metadata": {},
     "output_type": "display_data"
    },
    {
     "data": {
      "image/png": "[encoded data removed]",
      "text/plain": [
       "<Figure size 600x400 with 2 Axes>"
      ]
     },
     "metadata": {},
     "output_type": "display_data"
    }
   ],
   "source": [
    "from sklearn.metrics import confusion_matrix, ConfusionMatrixDisplay\n",
    "\n",
    "aspects_to_plot = [\"food\", \"service\", \"ambience\"]\n",
    "\n",
    "for aspect in aspects_to_plot:\n",
    "\n",
    "    aspect_true_labels = [true_labels[i] for i in range(len(aspects_list)) if aspects_list[i] == aspect]\n",
    "    aspect_predictions = [predictions[i] for i in range(len(aspects_list)) if aspects_list[i] == aspect]\n",
    "    \n",
    "    conf_matrix = confusion_matrix(aspect_true_labels, aspect_predictions, labels=[0, 1, 2])\n",
    "    \n",
    "    plt.figure(figsize=(6, 4))\n",
    "    disp = ConfusionMatrixDisplay(confusion_matrix=conf_matrix, display_labels=['Negative', 'Neutral', 'Positive'])\n",
    "    disp.plot(cmap='Blues', ax=plt.gca())\n",
    "    plt.title(f'Confusion Matrix for Aspect: {aspect.capitalize()}')\n",
    "    plt.show()\n"
   ]
  },
  {
   "cell_type": "markdown",
   "metadata": {},
   "source": [
    "## Visualizing the Distribution of Sentiment Labels per Aspect\n",
    "\n",
    "In this section, we visualize the distribution of sentiment labels for different aspects in the training dataset. This analysis helps in understanding how sentiment is distributed across various aspects, which can be valuable for refining the model and ensuring balanced training.\n",
    "\n",
    "### Code Breakdown:\n",
    "\n",
    "### 1. **Plotting Setup**\n",
    "- We set up a figure with a specified size using `plt.figure()`. The dimensions are chosen to ensure clarity and visibility of the data.\n",
    "\n"
   ]
  },
  {
   "cell_type": "code",
   "execution_count": 140,
   "metadata": {},
   "outputs": [
    {
     "data": {
      "image/png": "[encoded data removed]",
      "text/plain": [
       "<Figure size 1200x600 with 1 Axes>"
      ]
     },
     "metadata": {},
     "output_type": "display_data"
    }
   ],
   "source": [
    "plt.figure(figsize=(12, 6))\n",
    "sns.countplot(data=train_data, x='aspect_term', hue='sentiment_labels')\n",
    "plt.title('Distribution of Sentiment Labels per Aspect in Training Data')\n",
    "plt.xlabel('Aspect')\n",
    "plt.ylabel('Count')\n",
    "plt.xticks(rotation=45)\n",
    "plt.legend(title='Sentiment', labels=['Negative (0)', 'Neutral (1)', 'Positive (2)'])\n",
    "plt.show()\n"
   ]
  },
  {
   "cell_type": "markdown",
   "metadata": {},
   "source": [
    "## Predicting Sentiment for a Given Review and Aspect\n",
    "\n",
    "In this section, we define a function that predicts the sentiment of a review based on its associated aspect using a pre-trained BERT model. This function encapsulates the steps required to prepare the input, make predictions, and map the output to human-readable sentiment labels.\n",
    "\n",
    "### Function Definition:\n",
    "\n",
    "```python\n",
    "def predict_sentiment(aspect, review, model, tokenizer, max_len=128):\n"
   ]
  },
  {
   "cell_type": "code",
   "execution_count": 141,
   "metadata": {},
   "outputs": [],
   "source": [
    "def predict_sentiment(aspect, review, model, tokenizer, max_len=128):\n",
    "\n",
    "    input_text = f\"Aspect: {aspect}. Review: {review}\"\n",
    "    \n",
    "    encoding = tokenizer.encode_plus(\n",
    "        input_text,\n",
    "        add_special_tokens=True,\n",
    "        max_length=max_len,\n",
    "        return_token_type_ids=False,\n",
    "        padding='max_length',\n",
    "        truncation=True,\n",
    "        return_attention_mask=True,\n",
    "        return_tensors='pt'  \n",
    "    )\n",
    "\n",
    "    input_ids = encoding['input_ids'].to(device)\n",
    "    attention_mask = encoding['attention_mask'].to(device)\n",
    "\n",
    "    model.eval()\n",
    "    with torch.no_grad():\n",
    "\n",
    "        outputs = model(input_ids=input_ids, attention_mask=attention_mask)\n",
    "        logits = outputs.logits\n",
    "\n",
    "        predicted_label = torch.argmax(logits, dim=1).cpu().item()\n",
    "    \n",
    "    label_mapping = {0: 'Negative', 1: 'Neutral', 2: 'Positive'}\n",
    "    sentiment = label_mapping[predicted_label]\n",
    "    \n",
    "    return sentiment\n"
   ]
  },
  {
   "cell_type": "code",
   "execution_count": 142,
   "metadata": {},
   "outputs": [
    {
     "name": "stdout",
     "output_type": "stream",
     "text": [
      "Predicted Sentiment for 'food' aspect: Positive\n"
     ]
    }
   ],
   "source": [
    "# Example\n",
    "aspect = \"food\"\n",
    "review = \"The food was meh.\"\n",
    "predicted_sentiment = predict_sentiment(aspect, review, model, tokenizer)\n",
    "print(f\"Predicted Sentiment for '{aspect}' aspect: {predicted_sentiment}\")\n"
   ]
  },
  {
   "cell_type": "markdown",
   "metadata": {},
   "source": [
    "## BONUS: Hyperparameter Tuning"
   ]
  },
  {
   "cell_type": "markdown",
   "metadata": {},
   "source": [
    "Note: We manually ran the Hyperparameter tuning in a different notebook and took the best results. However when moving to the final, \"cleaned up\" version we had to run the tuning again, but due to the time it took, we decided to leave it unrun in this final vesion. \n",
    "\n",
    "You can run it yorselves to check that the code is working. \n",
    "\n",
    "Also the steps we took and which hyperpamaters we finally used can be seen in detail in the report itself."
   ]
  },
  {
   "cell_type": "code",
   "execution_count": null,
   "metadata": {},
   "outputs": [],
   "source": [
    "def train_and_evaluate_model(learning_rate, batch_size, model, tokenizer, train_data_loader, test_data_loader, epochs=3):\n",
    "    # Initialize optimizer\n",
    "    optimizer = AdamW(model.parameters(), lr=learning_rate)\n",
    "    \n",
    "    # Train the model\n",
    "    train(model, train_data_loader, optimizer, device, epochs)\n",
    "    \n",
    "    # Evaluate the model\n",
    "    accuracy, precision, recall, f1_score, _, _, _, _ = evaluate(model, test_data_loader, device)\n",
    "    \n",
    "    return f1_score"
   ]
  },
  {
   "cell_type": "code",
   "execution_count": null,
   "metadata": {},
   "outputs": [],
   "source": [
    "import random\n",
    "\n",
    "# Define hyperparameter space\n",
    "learning_rates = [1e-5, 2e-5, 3e-5]\n",
    "batch_sizes = [8, 16, 32]\n",
    "\n",
    "# Number of random combinations to try\n",
    "n_random_trials = 10\n",
    "\n",
    "\n",
    "results = []\n",
    "\n",
    "#----------------------------------------------------------------------------------------\n",
    "\n",
    "for _ in range(n_random_trials):\n",
    "    # Sample a random learning rate and batch size\n",
    "    learning_rate = random.choice(learning_rates)\n",
    "    batch_size = random.choice(batch_sizes)\n",
    "    \n",
    "    print(f\"Training with Learning Rate: {learning_rate}, Batch Size: {batch_size}\")\n",
    "    \n",
    "    # Create DataLoaders with the current batch size\n",
    "    train_data_loader = create_data_loader(train_reviews, train_aspects, train_labels, tokenizer, MAX_LEN, batch_size)\n",
    "    test_data_loader = create_data_loader(test_reviews, test_aspects, test_labels, tokenizer, MAX_LEN, batch_size)\n",
    "    \n",
    "    # Clone the model for each combination to avoid issues with weights\n",
    "    model_clone = BertForSequenceClassification.from_pretrained(PRE_TRAINED_MODEL_NAME, num_labels=3).to(device)\n",
    "    \n",
    "    # Train and evaluate the model\n",
    "    f1_score = train_and_evaluate_model(learning_rate, batch_size, model_clone, tokenizer, train_data_loader, test_data_loader)\n",
    "    \n",
    "    # Store the results\n",
    "    results.append({\n",
    "        'learning_rate': learning_rate,\n",
    "        'batch_size': batch_size,\n",
    "        'f1_score': f1_score\n",
    "    })\n",
    "\n",
    "#----------------------------------------------------------------------------------------\n",
    "\n",
    "# Convert results to a DataFrame for better readability\n",
    "import pandas as pd\n",
    "\n",
    "results_df = pd.DataFrame(results)\n",
    "\n",
    "# Find the best hyperparameters based on F1 score\n",
    "best_params = results_df.loc[results_df['f1_score'].idxmax()]\n",
    "\n",
    "print(\"Best Hyperparameters:\")\n",
    "print(best_params)"
   ]
  }
 ],
 "metadata": {
  "kernelspec": {
   "display_name": "Python 3",
   "language": "python",
   "name": "python3"
  },
  "language_info": {
   "codemirror_mode": {
    "name": "ipython",
    "version": 3
   },
   "file_extension": ".py",
   "mimetype": "text/x-python",
   "name": "python",
   "nbconvert_exporter": "python",
   "pygments_lexer": "ipython3",
   "version": "3.11.5"
  }
 },
 "nbformat": 4,
 "nbformat_minor": 2
}
